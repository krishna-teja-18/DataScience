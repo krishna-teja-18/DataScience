{
 "cells": [
  {
   "cell_type": "code",
   "execution_count": 20,
   "metadata": {},
   "outputs": [],
   "source": [
    "import pandas as pd\n",
    "import numpy as np\n",
    "import matplotlib.pyplot as plt\n",
    "import seaborn as sns\n",
    "from sklearn.model_selection import train_test_split\n",
    "from sklearn.preprocessing import LabelEncoder, StandardScaler\n",
    "from tensorflow import keras\n",
    "from tensorflow.keras.models import Sequential\n",
    "from tensorflow.keras.layers import Dense\n",
    "from tensorflow.keras.optimizers import Adam\n",
    "from sklearn.metrics import accuracy_score, classification_report\n",
    "from tensorflow.keras.wrappers.scikit_learn import KerasClassifier\n",
    "from sklearn.model_selection import GridSearchCV"
   ]
  },
  {
   "cell_type": "code",
   "execution_count": 3,
   "metadata": {},
   "outputs": [],
   "source": [
    "# Load dataset\n",
    "file_path = \"Alphabets_data.csv\"\n",
    "df = pd.read_csv(file_path)"
   ]
  },
  {
   "cell_type": "code",
   "execution_count": 6,
   "metadata": {},
   "outputs": [
    {
     "name": "stdout",
     "output_type": "stream",
     "text": [
      "<class 'pandas.core.frame.DataFrame'>\n",
      "RangeIndex: 20000 entries, 0 to 19999\n",
      "Data columns (total 17 columns):\n",
      " #   Column  Non-Null Count  Dtype \n",
      "---  ------  --------------  ----- \n",
      " 0   letter  20000 non-null  object\n",
      " 1   xbox    20000 non-null  int64 \n",
      " 2   ybox    20000 non-null  int64 \n",
      " 3   width   20000 non-null  int64 \n",
      " 4   height  20000 non-null  int64 \n",
      " 5   onpix   20000 non-null  int64 \n",
      " 6   xbar    20000 non-null  int64 \n",
      " 7   ybar    20000 non-null  int64 \n",
      " 8   x2bar   20000 non-null  int64 \n",
      " 9   y2bar   20000 non-null  int64 \n",
      " 10  xybar   20000 non-null  int64 \n",
      " 11  x2ybar  20000 non-null  int64 \n",
      " 12  xy2bar  20000 non-null  int64 \n",
      " 13  xedge   20000 non-null  int64 \n",
      " 14  xedgey  20000 non-null  int64 \n",
      " 15  yedge   20000 non-null  int64 \n",
      " 16  yedgex  20000 non-null  int64 \n",
      "dtypes: int64(16), object(1)\n",
      "memory usage: 2.6+ MB\n",
      "None\n",
      "****************************************************************************************************\n",
      "  letter  xbox  ybox  width  height  onpix  xbar  ybar  x2bar  y2bar  xybar  \\\n",
      "0      T     2     8      3       5      1     8    13      0      6      6   \n",
      "1      I     5    12      3       7      2    10     5      5      4     13   \n",
      "2      D     4    11      6       8      6    10     6      2      6     10   \n",
      "3      N     7    11      6       6      3     5     9      4      6      4   \n",
      "4      G     2     1      3       1      1     8     6      6      6      6   \n",
      "\n",
      "   x2ybar  xy2bar  xedge  xedgey  yedge  yedgex  \n",
      "0      10       8      0       8      0       8  \n",
      "1       3       9      2       8      4      10  \n",
      "2       3       7      3       7      3       9  \n",
      "3       4      10      6      10      2       8  \n",
      "4       5       9      1       7      5      10  \n"
     ]
    }
   ],
   "source": [
    "# Display basic info\n",
    "print(df.info())\n",
    "print('*'*100)\n",
    "print(df.head())"
   ]
  },
  {
   "cell_type": "code",
   "execution_count": 7,
   "metadata": {},
   "outputs": [
    {
     "name": "stdout",
     "output_type": "stream",
     "text": [
      "letter    0\n",
      "xbox      0\n",
      "ybox      0\n",
      "width     0\n",
      "height    0\n",
      "onpix     0\n",
      "xbar      0\n",
      "ybar      0\n",
      "x2bar     0\n",
      "y2bar     0\n",
      "xybar     0\n",
      "x2ybar    0\n",
      "xy2bar    0\n",
      "xedge     0\n",
      "xedgey    0\n",
      "yedge     0\n",
      "yedgex    0\n",
      "dtype: int64\n"
     ]
    }
   ],
   "source": [
    "# Check for missing values\n",
    "print(df.isnull().sum())"
   ]
  },
  {
   "cell_type": "code",
   "execution_count": 8,
   "metadata": {},
   "outputs": [],
   "source": [
    "# Handle missing values (if any)\n",
    "df.dropna(inplace=True)"
   ]
  },
  {
   "cell_type": "code",
   "execution_count": 9,
   "metadata": {},
   "outputs": [],
   "source": [
    "# Separate target (first column) and features (remaining columns)\n",
    "y = df.iloc[:, 0]  # \"letter\" column as target\n",
    "X = df.iloc[:, 1:] # Remaining columns as features"
   ]
  },
  {
   "cell_type": "code",
   "execution_count": 10,
   "metadata": {},
   "outputs": [],
   "source": [
    "# Encode categorical labels (letters)\n",
    "label_encoder = LabelEncoder()\n",
    "y_encoded = label_encoder.fit_transform(y)  # Convert letters to numerical values"
   ]
  },
  {
   "cell_type": "code",
   "execution_count": 11,
   "metadata": {},
   "outputs": [],
   "source": [
    "# Normalize features\n",
    "scaler = StandardScaler()\n",
    "X_scaled = scaler.fit_transform(X)"
   ]
  },
  {
   "cell_type": "code",
   "execution_count": 15,
   "metadata": {},
   "outputs": [],
   "source": [
    "# Split data into training and test sets\n",
    "X_train, X_test, y_train, y_test = train_test_split(X_scaled, y_encoded, test_size=0.2, random_state=42)"
   ]
  },
  {
   "cell_type": "code",
   "execution_count": 16,
   "metadata": {},
   "outputs": [],
   "source": [
    "# Define ANN model\n",
    "model = Sequential([\n",
    "    Dense(64, activation='relu', input_shape=(X_train.shape[1],)),  # Input layer\n",
    "    Dense(32, activation='relu'),  # Hidden layer\n",
    "    Dense(len(np.unique(y_encoded)), activation='softmax')  # Output layer (multi-class classification)\n",
    "])"
   ]
  },
  {
   "cell_type": "code",
   "execution_count": 17,
   "metadata": {},
   "outputs": [],
   "source": [
    "# Compile the model\n",
    "model.compile(optimizer=Adam(learning_rate=0.001), loss='sparse_categorical_crossentropy', metrics=['accuracy'])"
   ]
  },
  {
   "cell_type": "code",
   "execution_count": 18,
   "metadata": {},
   "outputs": [
    {
     "name": "stdout",
     "output_type": "stream",
     "text": [
      "Epoch 1/20\n",
      "400/400 [==============================] - 2s 3ms/step - loss: 1.9881 - accuracy: 0.4555 - val_loss: 1.2326 - val_accuracy: 0.6644\n",
      "Epoch 2/20\n",
      "400/400 [==============================] - 1s 2ms/step - loss: 1.0071 - accuracy: 0.7158 - val_loss: 0.8985 - val_accuracy: 0.7475\n",
      "Epoch 3/20\n",
      "400/400 [==============================] - 1s 2ms/step - loss: 0.7838 - accuracy: 0.7730 - val_loss: 0.7449 - val_accuracy: 0.7894\n",
      "Epoch 4/20\n",
      "400/400 [==============================] - 1s 2ms/step - loss: 0.6595 - accuracy: 0.8078 - val_loss: 0.6403 - val_accuracy: 0.8200\n",
      "Epoch 5/20\n",
      "400/400 [==============================] - 1s 2ms/step - loss: 0.5754 - accuracy: 0.8328 - val_loss: 0.5765 - val_accuracy: 0.8363\n",
      "Epoch 6/20\n",
      "400/400 [==============================] - 1s 2ms/step - loss: 0.5102 - accuracy: 0.8498 - val_loss: 0.5164 - val_accuracy: 0.8522\n",
      "Epoch 7/20\n",
      "400/400 [==============================] - 1s 2ms/step - loss: 0.4605 - accuracy: 0.8646 - val_loss: 0.4767 - val_accuracy: 0.8609\n",
      "Epoch 8/20\n",
      "400/400 [==============================] - 1s 2ms/step - loss: 0.4195 - accuracy: 0.8728 - val_loss: 0.4383 - val_accuracy: 0.8684\n",
      "Epoch 9/20\n",
      "400/400 [==============================] - 1s 2ms/step - loss: 0.3826 - accuracy: 0.8857 - val_loss: 0.4046 - val_accuracy: 0.8825\n",
      "Epoch 10/20\n",
      "400/400 [==============================] - 1s 2ms/step - loss: 0.3539 - accuracy: 0.8929 - val_loss: 0.3885 - val_accuracy: 0.8809\n",
      "Epoch 11/20\n",
      "400/400 [==============================] - 1s 2ms/step - loss: 0.3288 - accuracy: 0.9029 - val_loss: 0.3616 - val_accuracy: 0.8928\n",
      "Epoch 12/20\n",
      "400/400 [==============================] - 1s 2ms/step - loss: 0.3088 - accuracy: 0.9067 - val_loss: 0.3418 - val_accuracy: 0.8972\n",
      "Epoch 13/20\n",
      "400/400 [==============================] - 1s 2ms/step - loss: 0.2898 - accuracy: 0.9147 - val_loss: 0.3252 - val_accuracy: 0.9044\n",
      "Epoch 14/20\n",
      "400/400 [==============================] - 1s 2ms/step - loss: 0.2721 - accuracy: 0.9177 - val_loss: 0.3171 - val_accuracy: 0.9034\n",
      "Epoch 15/20\n",
      "400/400 [==============================] - 1s 2ms/step - loss: 0.2590 - accuracy: 0.9230 - val_loss: 0.3047 - val_accuracy: 0.9075\n",
      "Epoch 16/20\n",
      "400/400 [==============================] - 1s 2ms/step - loss: 0.2474 - accuracy: 0.9226 - val_loss: 0.2961 - val_accuracy: 0.9109\n",
      "Epoch 17/20\n",
      "400/400 [==============================] - 1s 3ms/step - loss: 0.2351 - accuracy: 0.9278 - val_loss: 0.2884 - val_accuracy: 0.9147\n",
      "Epoch 18/20\n",
      "400/400 [==============================] - 1s 2ms/step - loss: 0.2234 - accuracy: 0.9322 - val_loss: 0.2770 - val_accuracy: 0.9153\n",
      "Epoch 19/20\n",
      "400/400 [==============================] - 1s 2ms/step - loss: 0.2153 - accuracy: 0.9348 - val_loss: 0.2737 - val_accuracy: 0.9169\n",
      "Epoch 20/20\n",
      "400/400 [==============================] - 1s 2ms/step - loss: 0.2075 - accuracy: 0.9388 - val_loss: 0.2674 - val_accuracy: 0.9191\n"
     ]
    }
   ],
   "source": [
    "# Train the model\n",
    "history = model.fit(X_train, y_train, epochs=20, batch_size=32, validation_split=0.2, verbose=1)"
   ]
  },
  {
   "cell_type": "code",
   "execution_count": 19,
   "metadata": {},
   "outputs": [
    {
     "name": "stdout",
     "output_type": "stream",
     "text": [
      "125/125 [==============================] - 0s 1ms/step\n",
      "Accuracy: 0.9245\n",
      "              precision    recall  f1-score   support\n",
      "\n",
      "           0       0.96      0.97      0.97       149\n",
      "           1       0.82      0.94      0.88       153\n",
      "           2       0.97      0.88      0.92       137\n",
      "           3       0.86      0.95      0.90       156\n",
      "           4       0.85      0.97      0.90       141\n",
      "           5       0.87      0.93      0.90       140\n",
      "           6       0.93      0.89      0.91       160\n",
      "           7       0.88      0.76      0.82       144\n",
      "           8       0.92      0.95      0.93       146\n",
      "           9       0.99      0.91      0.95       149\n",
      "          10       0.80      0.92      0.86       130\n",
      "          11       0.99      0.92      0.95       155\n",
      "          12       0.98      0.93      0.96       168\n",
      "          13       0.94      0.96      0.95       151\n",
      "          14       0.94      0.92      0.93       145\n",
      "          15       0.96      0.83      0.89       173\n",
      "          16       0.96      0.93      0.95       166\n",
      "          17       0.87      0.89      0.88       160\n",
      "          18       0.91      0.94      0.92       171\n",
      "          19       0.94      0.93      0.93       163\n",
      "          20       0.95      0.96      0.96       183\n",
      "          21       0.95      0.93      0.94       158\n",
      "          22       0.97      0.97      0.97       148\n",
      "          23       0.94      0.97      0.96       154\n",
      "          24       0.97      0.97      0.97       168\n",
      "          25       0.95      0.88      0.91       132\n",
      "\n",
      "    accuracy                           0.92      4000\n",
      "   macro avg       0.93      0.92      0.92      4000\n",
      "weighted avg       0.93      0.92      0.92      4000\n",
      "\n"
     ]
    }
   ],
   "source": [
    "# Evaluate the model\n",
    "y_pred = np.argmax(model.predict(X_test), axis=1)\n",
    "print(\"Accuracy:\", accuracy_score(y_test, y_pred))\n",
    "print(classification_report(y_test, y_pred))"
   ]
  },
  {
   "cell_type": "code",
   "execution_count": 21,
   "metadata": {},
   "outputs": [],
   "source": [
    "# Function to create ANN model for hyperparameter tuning\n",
    "def create_model(learning_rate=0.001, neurons=64):\n",
    "    model = Sequential([\n",
    "        Dense(neurons, activation='relu', input_shape=(X_train.shape[1],)),\n",
    "        Dense(neurons//2, activation='relu'),\n",
    "        Dense(len(np.unique(y_encoded)), activation='softmax')\n",
    "    ])\n",
    "    model.compile(optimizer=Adam(learning_rate=learning_rate), loss='sparse_categorical_crossentropy', metrics=['accuracy'])\n",
    "    return model"
   ]
  },
  {
   "cell_type": "code",
   "execution_count": 23,
   "metadata": {},
   "outputs": [
    {
     "name": "stderr",
     "output_type": "stream",
     "text": [
      "C:\\Users\\KRISHNA TEJA\\Anaconda3\\lib\\site-packages\\ipykernel_launcher.py:2: DeprecationWarning: KerasClassifier is deprecated, use Sci-Keras (https://github.com/adriangb/scikeras) instead. See https://www.adriangb.com/scikeras/stable/migration.html for help migrating.\n",
      "  \n"
     ]
    }
   ],
   "source": [
    "# Wrap model for scikit-learn compatibility\n",
    "model_wrapper = KerasClassifier(build_fn=create_model, epochs=20, batch_size=32, verbose=0)"
   ]
  },
  {
   "cell_type": "code",
   "execution_count": 24,
   "metadata": {},
   "outputs": [
    {
     "name": "stdout",
     "output_type": "stream",
     "text": [
      "167/167 [==============================] - 0s 1ms/step\n",
      "167/167 [==============================] - 0s 1ms/step\n",
      "167/167 [==============================] - 0s 1ms/step\n",
      "167/167 [==============================] - 0s 1ms/step\n",
      "167/167 [==============================] - 0s 1ms/step\n",
      "167/167 [==============================] - 0s 1ms/step\n",
      "167/167 [==============================] - 0s 1ms/step\n",
      "167/167 [==============================] - 0s 1ms/step\n",
      "167/167 [==============================] - 0s 2ms/step\n",
      "167/167 [==============================] - 0s 1ms/step\n",
      "167/167 [==============================] - 0s 1ms/step\n",
      "167/167 [==============================] - 0s 1ms/step\n",
      "167/167 [==============================] - 0s 1ms/step\n",
      "167/167 [==============================] - 0s 1ms/step\n",
      "167/167 [==============================] - 0s 1ms/step\n",
      "167/167 [==============================] - 0s 1ms/step\n",
      "167/167 [==============================] - 0s 1ms/step\n",
      "167/167 [==============================] - 0s 1ms/step\n",
      "167/167 [==============================] - 0s 1ms/step\n",
      "167/167 [==============================] - 0s 1ms/step\n",
      "167/167 [==============================] - 0s 1ms/step\n",
      "167/167 [==============================] - 0s 1ms/step\n",
      "167/167 [==============================] - 0s 1ms/step\n",
      "167/167 [==============================] - 0s 1ms/step\n",
      "167/167 [==============================] - 0s 2ms/step\n",
      "167/167 [==============================] - 0s 2ms/step\n",
      "167/167 [==============================] - 0s 2ms/step\n",
      "Best parameters: {'learning_rate': 0.001, 'neurons': 128}\n"
     ]
    }
   ],
   "source": [
    "# Define hyperparameter grid\n",
    "param_grid = {\n",
    "    'learning_rate': [0.01, 0.001, 0.0001],\n",
    "    'neurons': [32, 64, 128]\n",
    "}\n",
    "\n",
    "# Perform grid search\n",
    "grid = GridSearchCV(estimator=model_wrapper, param_grid=param_grid, scoring='accuracy', cv=3)\n",
    "grid_result = grid.fit(X_train, y_train)\n",
    "\n",
    "# Display best hyperparameters\n",
    "print(\"Best parameters:\", grid_result.best_params_)"
   ]
  },
  {
   "cell_type": "code",
   "execution_count": 25,
   "metadata": {},
   "outputs": [
    {
     "name": "stdout",
     "output_type": "stream",
     "text": [
      "Epoch 1/20\n",
      "500/500 [==============================] - 2s 2ms/step - loss: 1.4308 - accuracy: 0.6108\n",
      "Epoch 2/20\n",
      "500/500 [==============================] - 1s 2ms/step - loss: 0.6745 - accuracy: 0.8059\n",
      "Epoch 3/20\n",
      "500/500 [==============================] - 1s 2ms/step - loss: 0.5027 - accuracy: 0.8542\n",
      "Epoch 4/20\n",
      "500/500 [==============================] - 1s 2ms/step - loss: 0.4041 - accuracy: 0.8805\n",
      "Epoch 5/20\n",
      "500/500 [==============================] - 1s 2ms/step - loss: 0.3384 - accuracy: 0.9007\n",
      "Epoch 6/20\n",
      "500/500 [==============================] - 1s 2ms/step - loss: 0.2900 - accuracy: 0.9124\n",
      "Epoch 7/20\n",
      "500/500 [==============================] - 1s 2ms/step - loss: 0.2514 - accuracy: 0.9249\n",
      "Epoch 8/20\n",
      "500/500 [==============================] - 1s 2ms/step - loss: 0.2232 - accuracy: 0.9334\n",
      "Epoch 9/20\n",
      "500/500 [==============================] - 1s 2ms/step - loss: 0.2024 - accuracy: 0.9388\n",
      "Epoch 10/20\n",
      "500/500 [==============================] - 1s 2ms/step - loss: 0.1814 - accuracy: 0.9436\n",
      "Epoch 11/20\n",
      "500/500 [==============================] - 1s 2ms/step - loss: 0.1665 - accuracy: 0.9481\n",
      "Epoch 12/20\n",
      "500/500 [==============================] - 1s 2ms/step - loss: 0.1520 - accuracy: 0.9521\n",
      "Epoch 13/20\n",
      "500/500 [==============================] - 1s 2ms/step - loss: 0.1402 - accuracy: 0.9557\n",
      "Epoch 14/20\n",
      "500/500 [==============================] - 1s 2ms/step - loss: 0.1284 - accuracy: 0.9596\n",
      "Epoch 15/20\n",
      "500/500 [==============================] - 1s 2ms/step - loss: 0.1211 - accuracy: 0.9617\n",
      "Epoch 16/20\n",
      "500/500 [==============================] - 1s 2ms/step - loss: 0.1092 - accuracy: 0.9663\n",
      "Epoch 17/20\n",
      "500/500 [==============================] - 1s 2ms/step - loss: 0.1057 - accuracy: 0.9666\n",
      "Epoch 18/20\n",
      "500/500 [==============================] - 1s 2ms/step - loss: 0.0974 - accuracy: 0.9694\n",
      "Epoch 19/20\n",
      "500/500 [==============================] - 1s 2ms/step - loss: 0.0915 - accuracy: 0.9722\n",
      "Epoch 20/20\n",
      "500/500 [==============================] - 1s 2ms/step - loss: 0.0844 - accuracy: 0.9739\n",
      "125/125 [==============================] - 0s 1ms/step\n",
      "Tuned Model Accuracy: 0.94525\n",
      "              precision    recall  f1-score   support\n",
      "\n",
      "           0       0.94      0.99      0.97       149\n",
      "           1       0.88      0.93      0.91       153\n",
      "           2       0.97      0.91      0.94       137\n",
      "           3       0.93      0.95      0.94       156\n",
      "           4       0.94      0.94      0.94       141\n",
      "           5       0.88      0.96      0.92       140\n",
      "           6       0.88      0.96      0.92       160\n",
      "           7       0.96      0.81      0.88       144\n",
      "           8       0.99      0.92      0.95       146\n",
      "           9       0.95      0.95      0.95       149\n",
      "          10       0.88      0.92      0.90       130\n",
      "          11       0.97      0.98      0.97       155\n",
      "          12       1.00      0.93      0.96       168\n",
      "          13       0.94      0.96      0.95       151\n",
      "          14       0.95      0.96      0.95       145\n",
      "          15       1.00      0.89      0.94       173\n",
      "          16       0.99      0.92      0.96       166\n",
      "          17       0.89      0.93      0.91       160\n",
      "          18       0.99      0.98      0.98       171\n",
      "          19       0.92      0.94      0.93       163\n",
      "          20       0.97      0.97      0.97       183\n",
      "          21       0.93      0.97      0.95       158\n",
      "          22       0.97      0.99      0.98       148\n",
      "          23       0.97      0.98      0.97       154\n",
      "          24       0.96      0.96      0.96       168\n",
      "          25       0.94      0.95      0.95       132\n",
      "\n",
      "    accuracy                           0.95      4000\n",
      "   macro avg       0.95      0.94      0.94      4000\n",
      "weighted avg       0.95      0.95      0.95      4000\n",
      "\n"
     ]
    }
   ],
   "source": [
    "# Train the best model\n",
    "best_model = create_model(learning_rate=grid_result.best_params_['learning_rate'], neurons=grid_result.best_params_['neurons'])\n",
    "best_model.fit(X_train, y_train, epochs=20, batch_size=32, verbose=1)\n",
    "\n",
    "# Evaluate the final model\n",
    "y_pred_tuned = np.argmax(best_model.predict(X_test), axis=1)\n",
    "print(\"Tuned Model Accuracy:\", accuracy_score(y_test, y_pred_tuned))\n",
    "print(classification_report(y_test, y_pred_tuned))"
   ]
  },
  {
   "cell_type": "code",
   "execution_count": null,
   "metadata": {},
   "outputs": [],
   "source": []
  }
 ],
 "metadata": {
  "kernelspec": {
   "display_name": "Python 3",
   "language": "python",
   "name": "python3"
  },
  "language_info": {
   "codemirror_mode": {
    "name": "ipython",
    "version": 3
   },
   "file_extension": ".py",
   "mimetype": "text/x-python",
   "name": "python",
   "nbconvert_exporter": "python",
   "pygments_lexer": "ipython3",
   "version": "3.7.3"
  }
 },
 "nbformat": 4,
 "nbformat_minor": 2
}
