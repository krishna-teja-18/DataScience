{
 "cells": [
  {
   "cell_type": "markdown",
   "metadata": {},
   "source": [
    "# Step 1: State the Hypotheses\n",
    "\n",
    "Null Hypothesis (H₀): The weekly operating cost is consistent with the theoretical model (W = 1000 + 5X).\n",
    "\n",
    "Alternative Hypothesis (H₁): The weekly operating cost is higher than the theoretical model.\n"
   ]
  },
  {
   "cell_type": "code",
   "execution_count": 3,
   "metadata": {},
   "outputs": [
    {
     "name": "stdout",
     "output_type": "stream",
     "text": [
      "Theoretical Mean Weekly Cost (μ): Rs. 4000\n",
      "Standard Deviation of Weekly Cost (σ_W): Rs. 125\n",
      "Standard Error of the Mean (SEM): Rs. 25.0\n",
      "Test Statistic (Z-score): -38.0\n",
      "Critical Value (Z-critical): 1.6448536269514722\n",
      "\n",
      "Conclusion:\n",
      "Fail to reject the null hypothesis: There is no strong evidence that weekly operating costs are higher.\n"
     ]
    }
   ],
   "source": [
    "import numpy as np\n",
    "from scipy.stats import norm\n",
    "\n",
    "# Step 2: Define the given data\n",
    "sample_mean = 3050  # Sample mean weekly cost (Rs. 3,050)\n",
    "sample_size = 25  # Number of restaurants in the sample\n",
    "population_mean_units = 600  # Mean number of units produced (μ_X)\n",
    "population_std_units = 25  # Standard deviation of units produced (σ_X)\n",
    "cost_per_unit = 5  # Cost per unit (Rs. 5 per unit)\n",
    "fixed_cost = 1000  # Fixed cost (Rs. 1,000)\n",
    "\n",
    "# Step 3: Calculate the theoretical mean weekly cost (μ) using the cost model\n",
    "# Theoretical cost model: W = 1000 + 5X\n",
    "theoretical_mean_cost = fixed_cost + cost_per_unit * population_mean_units\n",
    "print(f\"Theoretical Mean Weekly Cost (μ): Rs. {theoretical_mean_cost}\")\n",
    "\n",
    "# Step 4: Calculate the standard deviation of the weekly cost (σ_W)\n",
    "# Since W = 1000 + 5X, the standard deviation of W is 5 * σ_X\n",
    "std_weekly_cost = cost_per_unit * population_std_units\n",
    "print(f\"Standard Deviation of Weekly Cost (σ_W): Rs. {std_weekly_cost}\")\n",
    "\n",
    "# Step 5: Calculate the standard error of the mean (SEM)\n",
    "# SEM = σ_W / sqrt(n)\n",
    "sem = std_weekly_cost / np.sqrt(sample_size)\n",
    "print(f\"Standard Error of the Mean (SEM): Rs. {sem}\")\n",
    "\n",
    "# Step 6: Calculate the test statistic (Z-score)\n",
    "# Z = (sample_mean - theoretical_mean_cost) / SEM\n",
    "z_score = (sample_mean - theoretical_mean_cost) / sem\n",
    "print(f\"Test Statistic (Z-score): {z_score}\")\n",
    "\n",
    "# Step 7: Determine the critical value for alpha = 0.05 (one-tailed test)\n",
    "alpha = 0.05  # Significance level\n",
    "critical_value = norm.ppf(1 - alpha)  # Critical value from the standard normal distribution\n",
    "print(f\"Critical Value (Z-critical): {critical_value}\")\n",
    "\n",
    "# Step 8: Make a decision\n",
    "if z_score > critical_value:\n",
    "    decision = \"Reject the null hypothesis: There is strong evidence that weekly operating costs are higher.\"\n",
    "else:\n",
    "    decision = \"Fail to reject the null hypothesis: There is no strong evidence that weekly operating costs are higher.\"\n",
    "\n",
    "# Step 9: Print the conclusion\n",
    "print(\"\\nConclusion:\")\n",
    "print(decision)"
   ]
  },
  {
   "cell_type": "markdown",
   "metadata": {},
   "source": [
    "# Conclusion:\n",
    "\n",
    "The Z-score (-38.0) is much less than the critical value (1.6449), so we fail to reject the null hypothesis. There is no strong evidence to support the restaurant owners' claim that the weekly operating costs are higher than the theoretical model suggests."
   ]
  },
  {
   "cell_type": "code",
   "execution_count": null,
   "metadata": {},
   "outputs": [],
   "source": []
  }
 ],
 "metadata": {
  "kernelspec": {
   "display_name": "Python 3",
   "language": "python",
   "name": "python3"
  },
  "language_info": {
   "codemirror_mode": {
    "name": "ipython",
    "version": 3
   },
   "file_extension": ".py",
   "mimetype": "text/x-python",
   "name": "python",
   "nbconvert_exporter": "python",
   "pygments_lexer": "ipython3",
   "version": "3.7.3"
  }
 },
 "nbformat": 4,
 "nbformat_minor": 5
}
