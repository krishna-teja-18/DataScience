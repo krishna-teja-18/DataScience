{
 "cells": [
  {
   "cell_type": "code",
   "execution_count": 2,
   "metadata": {},
   "outputs": [],
   "source": [
    "import pandas as pd\n",
    "from sklearn.feature_extraction.text import TfidfVectorizer\n",
    "from sklearn.metrics.pairwise import cosine_similarity\n",
    "from sklearn.model_selection import train_test_split\n",
    "from sklearn.metrics import precision_score, recall_score, f1_score, accuracy_score\n",
    "import numpy as np"
   ]
  },
  {
   "cell_type": "code",
   "execution_count": 3,
   "metadata": {},
   "outputs": [],
   "source": [
    "# 1.1 Load the dataset\n",
    "df = pd.read_csv(\"anime.csv\")"
   ]
  },
  {
   "cell_type": "code",
   "execution_count": 4,
   "metadata": {},
   "outputs": [],
   "source": [
    "# 1.2 Handle missing values\n",
    "df.fillna(\"\", inplace=True)  # Fill NaN values with an empty string for text-based features\n",
    "df.dropna(subset=[\"rating\"], inplace=True)  # Remove rows where rating is missing"
   ]
  },
  {
   "cell_type": "code",
   "execution_count": 5,
   "metadata": {},
   "outputs": [
    {
     "name": "stdout",
     "output_type": "stream",
     "text": [
      "   anime_id                              name  \\\n",
      "0     32281                    Kimi no Na wa.   \n",
      "1      5114  Fullmetal Alchemist: Brotherhood   \n",
      "2     28977                          Gintama°   \n",
      "3      9253                       Steins;Gate   \n",
      "4      9969                     Gintama&#039;   \n",
      "\n",
      "                                               genre   type episodes rating  \\\n",
      "0               Drama, Romance, School, Supernatural  Movie        1   9.37   \n",
      "1  Action, Adventure, Drama, Fantasy, Magic, Mili...     TV       64   9.26   \n",
      "2  Action, Comedy, Historical, Parody, Samurai, S...     TV       51   9.25   \n",
      "3                                   Sci-Fi, Thriller     TV       24   9.17   \n",
      "4  Action, Comedy, Historical, Parody, Samurai, S...     TV       51   9.16   \n",
      "\n",
      "   members  \n",
      "0   200630  \n",
      "1   793665  \n",
      "2   114262  \n",
      "3   673572  \n",
      "4   151266  \n",
      "**************************************************\n",
      "<class 'pandas.core.frame.DataFrame'>\n",
      "Int64Index: 12294 entries, 0 to 12293\n",
      "Data columns (total 7 columns):\n",
      " #   Column    Non-Null Count  Dtype \n",
      "---  ------    --------------  ----- \n",
      " 0   anime_id  12294 non-null  int64 \n",
      " 1   name      12294 non-null  object\n",
      " 2   genre     12294 non-null  object\n",
      " 3   type      12294 non-null  object\n",
      " 4   episodes  12294 non-null  object\n",
      " 5   rating    12294 non-null  object\n",
      " 6   members   12294 non-null  int64 \n",
      "dtypes: int64(2), object(5)\n",
      "memory usage: 768.4+ KB\n",
      "None\n"
     ]
    }
   ],
   "source": [
    "# 1.3 Explore dataset structure\n",
    "print(df.head())\n",
    "print('*'*50)\n",
    "print(df.info())"
   ]
  },
  {
   "cell_type": "code",
   "execution_count": 6,
   "metadata": {},
   "outputs": [],
   "source": [
    "# 2.1 Feature Selection - Using 'genre' and 'rating' for similarity calculation\n",
    "def combine_features(row):\n",
    "    return row[\"genre\"] + \" \" + str(row[\"rating\"])\n",
    "\n",
    "df[\"combined_features\"] = df.apply(combine_features, axis=1)"
   ]
  },
  {
   "cell_type": "code",
   "execution_count": 7,
   "metadata": {},
   "outputs": [],
   "source": [
    "# 2.2 Convert categorical features (genres) into numerical representations using TF-IDF\n",
    "vectorizer = TfidfVectorizer(stop_words='english')\n",
    "feature_matrix = vectorizer.fit_transform(df[\"combined_features\"])"
   ]
  },
  {
   "cell_type": "code",
   "execution_count": 8,
   "metadata": {},
   "outputs": [],
   "source": [
    "# 3.1 Compute cosine similarity matrix\n",
    "cosine_sim = cosine_similarity(feature_matrix)"
   ]
  },
  {
   "cell_type": "code",
   "execution_count": 9,
   "metadata": {},
   "outputs": [],
   "source": [
    "# 3.2 Recommendation function with similarity threshold\n",
    "def recommend_anime(title, num_recommendations=5, similarity_threshold=0.2):\n",
    "    if title not in df[\"name\"].values:\n",
    "        return \"Anime not found in dataset\"\n",
    "    \n",
    "    idx = df[df[\"name\"] == title].index[0]\n",
    "    \n",
    "    # Get similarity scores for all anime\n",
    "    sim_scores = list(enumerate(cosine_sim[idx]))\n",
    "    \n",
    "    # Filter based on threshold\n",
    "    sim_scores = [score for score in sim_scores if score[1] >= similarity_threshold]\n",
    "    \n",
    "    sim_scores = sorted(sim_scores, key=lambda x: x[1], reverse=True)\n",
    "    \n",
    "    sim_scores = sim_scores[1:num_recommendations+1]\n",
    "    \n",
    "    # Fetch recommended anime titles\n",
    "    anime_indices = [i[0] for i in sim_scores]\n",
    "    return df.iloc[anime_indices][\"name\"].tolist()"
   ]
  },
  {
   "cell_type": "code",
   "execution_count": 10,
   "metadata": {},
   "outputs": [],
   "source": [
    "# 4.1 Evaluation - Splitting dataset into training and testing\n",
    "train_df, test_df = train_test_split(df, test_size=0.2, random_state=42)"
   ]
  },
  {
   "cell_type": "code",
   "execution_count": 11,
   "metadata": {},
   "outputs": [],
   "source": [
    "# 4.2 Evaluating the Recommendation System\n",
    "def evaluate_recommendation_system():\n",
    "    y_true = []  # Actual (1 if similar, 0 if not)\n",
    "    y_pred = []  # Predicted (1 if recommended, 0 if not)\n",
    "    \n",
    "    for title in test_df[\"name\"].sample(50, random_state=42):  # Evaluating on a sample of 50 titles\n",
    "        recommended_anime = recommend_anime(title, num_recommendations=5)\n",
    "        actual_anime = train_df[train_df[\"genre\"] == test_df[test_df[\"name\"] == title][\"genre\"].values[0]][\"name\"].tolist()\n",
    "        \n",
    "        for anime in recommended_anime:\n",
    "            if anime in actual_anime:\n",
    "                y_true.append(1)\n",
    "                y_pred.append(1)\n",
    "            else:\n",
    "                y_true.append(0)\n",
    "                y_pred.append(1)\n",
    "        \n",
    "        for anime in actual_anime:\n",
    "            if anime not in recommended_anime:\n",
    "                y_true.append(1)\n",
    "                y_pred.append(0)\n",
    "    \n",
    "    precision = precision_score(y_true, y_pred)\n",
    "    recall = recall_score(y_true, y_pred)\n",
    "    f1 = f1_score(y_true, y_pred)\n",
    "    \n",
    "    print(f\"Precision: {precision:.2f}, Recall: {recall:.2f}, F1-Score: {f1:.2f}\")"
   ]
  },
  {
   "cell_type": "code",
   "execution_count": 12,
   "metadata": {},
   "outputs": [
    {
     "name": "stdout",
     "output_type": "stream",
     "text": [
      "Precision: 0.26, Recall: 0.01, F1-Score: 0.02\n"
     ]
    }
   ],
   "source": [
    "# Run evaluation\n",
    "evaluate_recommendation_system()"
   ]
  },
  {
   "cell_type": "code",
   "execution_count": 13,
   "metadata": {},
   "outputs": [
    {
     "name": "stdout",
     "output_type": "stream",
     "text": [
      "Recommended anime for 'Naruto': ['Iron Virgin Jun', 'Naruto: Shippuuden Movie 3 - Hi no Ishi wo Tsugu Mono', 'Dragon Ball Super', 'Ikkitousen: Extravaganza Epoch', 'Tenjou Tenge']\n"
     ]
    }
   ],
   "source": [
    "# Example usage\n",
    "anime_name = \"Naruto\"  # Replace with an actual anime title from dataset\n",
    "recommendations = recommend_anime(anime_name, similarity_threshold=0.3)\n",
    "print(f\"Recommended anime for '{anime_name}':\", recommendations)"
   ]
  },
  {
   "cell_type": "markdown",
   "metadata": {},
   "source": [
    "# 1. Difference Between User-Based and Item-Based Collaborative Filtering\n",
    "\n",
    "User-Based Collaborative Filtering: This method recommends items by finding users with similar tastes. If User A and User B both liked the same anime in the past, then an anime liked by User A might be recommended to User B.\n",
    "\n",
    "Item-Based Collaborative Filtering: This method recommends items by finding similarities between items. If many users who watched Anime X also watched Anime Y, then Anime Y is recommended to a user who liked Anime X."
   ]
  },
  {
   "cell_type": "markdown",
   "metadata": {},
   "source": [
    "# 2. What is Collaborative Filtering and How Does It Work?\n",
    "\n",
    "Collaborative Filtering is a technique used in recommendation systems that suggests items based on past user behavior. It works by analyzing patterns in user interactions, such as ratings, views, or purchases, and then predicting what a user might like based on similar users or items."
   ]
  },
  {
   "cell_type": "code",
   "execution_count": null,
   "metadata": {},
   "outputs": [],
   "source": []
  }
 ],
 "metadata": {
  "kernelspec": {
   "display_name": "Python 3",
   "language": "python",
   "name": "python3"
  },
  "language_info": {
   "codemirror_mode": {
    "name": "ipython",
    "version": 3
   },
   "file_extension": ".py",
   "mimetype": "text/x-python",
   "name": "python",
   "nbconvert_exporter": "python",
   "pygments_lexer": "ipython3",
   "version": "3.7.3"
  }
 },
 "nbformat": 4,
 "nbformat_minor": 2
}
