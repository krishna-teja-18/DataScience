{
 "cells": [
  {
   "cell_type": "code",
   "execution_count": 1,
   "metadata": {},
   "outputs": [
    {
     "name": "stdout",
     "output_type": "stream",
     "text": [
      "Part a: 99% Confidence Interval using Sample Standard Deviation (t-distribution):\n",
      "Sample Mean: 1.2387\n",
      "Sample Standard Deviation: 0.1932\n",
      "Critical t-value: 2.9768\n",
      "Margin of Error: 0.1485\n",
      "Confidence Interval: (1.0902, 1.3871)\n",
      "\n"
     ]
    }
   ],
   "source": [
    "import numpy as np\n",
    "from scipy import stats\n",
    "\n",
    "# Given data\n",
    "data = [1.13, 1.55, 1.43, 0.92, 1.25, 1.36, 1.32, 0.85, 1.07, 1.48, 1.20, 1.33, 1.18, 1.22, 1.29]\n",
    "n = len(data)  # Sample size\n",
    "confidence_level = 0.99  # 99% confidence level\n",
    "\n",
    "# Calculate sample mean\n",
    "sample_mean = np.mean(data)\n",
    "\n",
    "# Part a: Using sample standard deviation (t-distribution)\n",
    "sample_std = np.std(data, ddof=1)  # ddof=1 for sample standard deviation\n",
    "t_critical = stats.t.ppf((1 + confidence_level) / 2, df=n-1)  # Critical t-value\n",
    "margin_of_error_t = t_critical * (sample_std / np.sqrt(n))  # Margin of error\n",
    "ci_t_distribution = (sample_mean - margin_of_error_t, sample_mean + margin_of_error_t)  # Confidence interval\n",
    "\n",
    "# Output results\n",
    "print(\"Part a: 99% Confidence Interval using Sample Standard Deviation (t-distribution):\")\n",
    "print(f\"Sample Mean: {sample_mean:.4f}\")\n",
    "print(f\"Sample Standard Deviation: {sample_std:.4f}\")\n",
    "print(f\"Critical t-value: {t_critical:.4f}\")\n",
    "print(f\"Margin of Error: {margin_of_error_t:.4f}\")\n",
    "print(f\"Confidence Interval: ({ci_t_distribution[0]:.4f}, {ci_t_distribution[1]:.4f})\\n\")\n"
   ]
  },
  {
   "cell_type": "code",
   "execution_count": 3,
   "metadata": {},
   "outputs": [
    {
     "name": "stdout",
     "output_type": "stream",
     "text": [
      "Part b: Using known population standard deviation (z-distribution):\n",
      "population_std: 0.2000\n",
      "z_critical: 2.5758\n",
      "Margin of Error: 0.1330\n",
      "Confidence Interval: (1.1057, 1.3717)\n",
      "\n"
     ]
    }
   ],
   "source": [
    "# Part b: Using known population standard deviation (z-distribution)\n",
    "population_std = 0.2  # Known population standard deviation\n",
    "z_critical = stats.norm.ppf((1 + confidence_level) / 2)  # Critical z-value\n",
    "margin_of_error_z = z_critical * (population_std / np.sqrt(n))  # Margin of error\n",
    "ci_z_distribution = (sample_mean - margin_of_error_z, sample_mean + margin_of_error_z)  # Confidence interva\n",
    "\n",
    "print(\"Part b: Using known population standard deviation (z-distribution):\")\n",
    "print(f\"population_std: {population_std:.4f}\")\n",
    "print(f\"z_critical: {z_critical:.4f}\")\n",
    "print(f\"Margin of Error: {margin_of_error_z:.4f}\")\n",
    "print(f\"Confidence Interval: ({ci_z_distribution[0]:.4f}, {ci_z_distribution[1]:.4f})\\n\")"
   ]
  },
  {
   "cell_type": "code",
   "execution_count": null,
   "metadata": {},
   "outputs": [],
   "source": []
  }
 ],
 "metadata": {
  "kernelspec": {
   "display_name": "Python 3",
   "language": "python",
   "name": "python3"
  },
  "language_info": {
   "codemirror_mode": {
    "name": "ipython",
    "version": 3
   },
   "file_extension": ".py",
   "mimetype": "text/x-python",
   "name": "python",
   "nbconvert_exporter": "python",
   "pygments_lexer": "ipython3",
   "version": "3.7.3"
  }
 },
 "nbformat": 4,
 "nbformat_minor": 5
}
