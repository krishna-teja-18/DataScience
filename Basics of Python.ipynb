{
 "cells": [
  {
   "cell_type": "code",
   "execution_count": 1,
   "metadata": {},
   "outputs": [
    {
     "name": "stdout",
     "output_type": "stream",
     "text": [
      "8\n",
      "Not a prime number\n"
     ]
    }
   ],
   "source": [
    "# Program to check whether a given number is a prime number\n",
    "\n",
    "# Taking input from the user\n",
    "number = int(input())   \n",
    "\n",
    "# Taking flag variable to indicate whether the number is prime number or not\n",
    "flag = 1  \n",
    "\n",
    "# Looping from 2 to number-1\n",
    "for i in range(2, number):  \n",
    "    # If number is divisible by any number in the range, it is not prime number\n",
    "    if number % i == 0:\n",
    "        print('Not a prime number')\n",
    "        flag = 0  # Setting flag to 0 as number is not prime\n",
    "        break\n",
    "\n",
    "# If the flag remains 1, the number is prime number\n",
    "if flag == 1:\n",
    "    print('Prime number')\n"
   ]
  },
  {
   "cell_type": "code",
   "execution_count": 3,
   "metadata": {},
   "outputs": [
    {
     "name": "stdout",
     "output_type": "stream",
     "text": [
      "45\n",
      "Random numbers generated are 2 and 2\n",
      "Try Again, wrong product!\n"
     ]
    }
   ],
   "source": [
    "# Program to generate two random numbers and check if the user can guess their product\n",
    "\n",
    "import random\n",
    "\n",
    "# Generating two random integers between 1 and 10\n",
    "a = random.randint(1, 10)\n",
    "b = random.randint(1, 10)\n",
    "\n",
    "# Taking user input for the product of the two numbers\n",
    "c = int(input())\n",
    "\n",
    "d = a * b  \n",
    "\n",
    "# Checking if the user's guess is correct\n",
    "if c == d:\n",
    "    print('You guessed the correct product!')\n",
    "else:\n",
    "    print(f'Random numbers generated are {a} and {b}')\n",
    "    print('Try Again, wrong product!')\n"
   ]
  },
  {
   "cell_type": "code",
   "execution_count": 4,
   "metadata": {},
   "outputs": [
    {
     "name": "stdout",
     "output_type": "stream",
     "text": [
      "10201 10609 11025 11449 11881 12321 12769 13225 13689 14161 14641 15129 15625 16129 16641 17161 17689 18225 18769 19321 19881 20449 21025 21609 22201 22801 23409 24025 24649 25281 25921 26569 27225 27889 28561 29241 29929 30625 31329 32041 32761 33489 34225 34969 35721 36481 37249 38025 38809 39601 "
     ]
    }
   ],
   "source": [
    "# Program to print squares of odd numbers in the range 100 to 200\n",
    "\n",
    "# Looping through all the numbers from 100 to 200\n",
    "for i in range(100, 201):\n",
    "    # Checking if the number is odd\n",
    "    if i % 2 != 0:\n",
    "        square = i * i  # Calculating the square of the odd number\n",
    "        print(square, end=' ')"
   ]
  },
  {
   "cell_type": "code",
   "execution_count": 5,
   "metadata": {},
   "outputs": [
    {
     "name": "stdout",
     "output_type": "stream",
     "text": [
      "This is a sample text. This text will be used to demonstrate the word counter\n",
      "'This': 2\n",
      "'is': 1\n",
      "'a': 1\n",
      "'sample': 1\n",
      "'text.': 1\n",
      "'text': 1\n",
      "'will': 1\n",
      "'be': 1\n",
      "'used': 1\n",
      "'to': 1\n",
      "'demonstrate': 1\n",
      "'the': 1\n",
      "'word': 1\n",
      "'counter': 1\n"
     ]
    }
   ],
   "source": [
    "# Program to count the occurrences of each word in a given sentence\n",
    "\n",
    "# Taking a sentence as input from the user and splitting it into words\n",
    "input_text = input().split()  \n",
    "\n",
    "d = {}\n",
    "\n",
    "# Iterating through each word in the input text\n",
    "for i in input_text:\n",
    "    a = input_text.count(i)  # Counting occurrences of the word in the list\n",
    "    if i not in d:\n",
    "        d[i] = a  # Updating the dictionary with the word and count\n",
    "\n",
    "for key, value in d.items():\n",
    "    print(f\"'{key}': {value}\")\n"
   ]
  },
  {
   "cell_type": "code",
   "execution_count": 6,
   "metadata": {},
   "outputs": [
    {
     "name": "stdout",
     "output_type": "stream",
     "text": [
      "racecar\n",
      "True\n"
     ]
    }
   ],
   "source": [
    "# Program to check whether a given string is a palindrome\n",
    "\n",
    "def is_palindrome(string):\n",
    "    if string == string[::-1]:  # Checking if the string is equal to its reversed format\n",
    "        return True\n",
    "    else:\n",
    "        return False\n",
    "\n",
    "# Taking input from the user\n",
    "string = input()\n",
    "\n",
    "# Calling the function\n",
    "result = is_palindrome(string)\n",
    "\n",
    "print(result)\n"
   ]
  },
  {
   "cell_type": "code",
   "execution_count": null,
   "metadata": {},
   "outputs": [],
   "source": []
  },
  {
   "cell_type": "code",
   "execution_count": null,
   "metadata": {},
   "outputs": [],
   "source": []
  }
 ],
 "metadata": {
  "kernelspec": {
   "display_name": "Python 3",
   "language": "python",
   "name": "python3"
  },
  "language_info": {
   "codemirror_mode": {
    "name": "ipython",
    "version": 3
   },
   "file_extension": ".py",
   "mimetype": "text/x-python",
   "name": "python",
   "nbconvert_exporter": "python",
   "pygments_lexer": "ipython3",
   "version": "3.7.3"
  }
 },
 "nbformat": 4,
 "nbformat_minor": 5
}
