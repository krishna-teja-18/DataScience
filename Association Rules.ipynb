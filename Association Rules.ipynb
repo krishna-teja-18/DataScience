{
 "cells": [
  {
   "cell_type": "code",
   "execution_count": 1,
   "metadata": {},
   "outputs": [],
   "source": [
    "# Step 1: Import necessary libraries\n",
    "import pandas as pd\n",
    "import matplotlib.pyplot as plt\n",
    "import seaborn as sns\n",
    "from mlxtend.frequent_patterns import apriori, association_rules\n",
    "from mlxtend.preprocessing import TransactionEncoder"
   ]
  },
  {
   "cell_type": "code",
   "execution_count": 2,
   "metadata": {},
   "outputs": [],
   "source": [
    "# Step 2: Load the dataset\n",
    "file_path = \"Online retail.xlsx\"\n",
    "df = pd.read_excel(file_path, header=None)"
   ]
  },
  {
   "cell_type": "code",
   "execution_count": 3,
   "metadata": {},
   "outputs": [
    {
     "name": "stdout",
     "output_type": "stream",
     "text": [
      "<class 'pandas.core.frame.DataFrame'>\n",
      "RangeIndex: 7501 entries, 0 to 7500\n",
      "Data columns (total 1 columns):\n",
      " #   Column  Non-Null Count  Dtype \n",
      "---  ------  --------------  ----- \n",
      " 0   0       7501 non-null   object\n",
      "dtypes: object(1)\n",
      "memory usage: 58.7+ KB\n",
      "None\n"
     ]
    }
   ],
   "source": [
    "# 1.2 Display basic information about the dataset\n",
    "print(df.info())"
   ]
  },
  {
   "cell_type": "code",
   "execution_count": 4,
   "metadata": {},
   "outputs": [
    {
     "name": "stdout",
     "output_type": "stream",
     "text": [
      "                                                   0\n",
      "0  shrimp,almonds,avocado,vegetables mix,green gr...\n",
      "1                             burgers,meatballs,eggs\n",
      "2                                            chutney\n",
      "3                                     turkey,avocado\n",
      "4  mineral water,milk,energy bar,whole wheat rice...\n"
     ]
    }
   ],
   "source": [
    "print(df.head())"
   ]
  },
  {
   "cell_type": "code",
   "execution_count": 5,
   "metadata": {},
   "outputs": [],
   "source": [
    "# Rename the column\n",
    "df.columns = [\"Transactions\"]"
   ]
  },
  {
   "cell_type": "code",
   "execution_count": 6,
   "metadata": {},
   "outputs": [],
   "source": [
    "# Convert each transaction into a list of items\n",
    "df[\"Transactions\"] = df[\"Transactions\"].apply(lambda x: str(x).split(\",\"))"
   ]
  },
  {
   "cell_type": "code",
   "execution_count": 7,
   "metadata": {},
   "outputs": [],
   "source": [
    "# Convert transactions into a format suitable for Apriori\n",
    "te = TransactionEncoder()\n",
    "te_ary = te.fit(df[\"Transactions\"]).transform(df[\"Transactions\"])\n",
    "df_encoded = pd.DataFrame(te_ary, columns=te.columns_)"
   ]
  },
  {
   "cell_type": "code",
   "execution_count": 8,
   "metadata": {},
   "outputs": [],
   "source": [
    "# Define different values of min_support and confidence thresholds\n",
    "support_values = [0.01, 0.02, 0.03, 0.05]\n",
    "confidence_values = [0.2, 0.4, 0.6, 0.8]"
   ]
  },
  {
   "cell_type": "code",
   "execution_count": 9,
   "metadata": {},
   "outputs": [],
   "source": [
    "# Store results\n",
    "rule_counts = []"
   ]
  },
  {
   "cell_type": "code",
   "execution_count": 10,
   "metadata": {},
   "outputs": [],
   "source": [
    "# Loop through different support and confidence values\n",
    "for support in support_values:\n",
    "    for confidence in confidence_values:\n",
    "        # Apply Apriori algorithm\n",
    "        frequent_itemsets = apriori(df_encoded, min_support=support, use_colnames=True)\n",
    "        \n",
    "        # Generate association rules\n",
    "        rules = association_rules(frequent_itemsets, metric=\"confidence\", min_threshold=confidence)\n",
    "        \n",
    "        # Store results\n",
    "        rule_counts.append((support, confidence, len(rules)))"
   ]
  },
  {
   "cell_type": "code",
   "execution_count": 11,
   "metadata": {},
   "outputs": [],
   "source": [
    "# Convert results to a DataFrame\n",
    "results_df = pd.DataFrame(rule_counts, columns=[\"Support\", \"Confidence\", \"Num_Rules\"])"
   ]
  },
  {
   "cell_type": "code",
   "execution_count": 13,
   "metadata": {},
   "outputs": [],
   "source": [
    "# Visualization: Heatmap of rules count\n",
    "pivot_table = results_df.pivot(index=\"Support\", columns=\"Confidence\", values=\"Num_Rules\")"
   ]
  },
  {
   "cell_type": "code",
   "execution_count": 14,
   "metadata": {},
   "outputs": [
    {
     "data": {
      "image/png": "[encoded data removed]",
      "text/plain": [
       "<Figure size 800x600 with 2 Axes>"
      ]
     },
     "metadata": {},
     "output_type": "display_data"
    }
   ],
   "source": [
    "plt.figure(figsize=(8, 6))\n",
    "sns.heatmap(pivot_table, annot=True, fmt=\"d\", cmap=\"Blues\")\n",
    "plt.title(\"Number of Association Rules for Different Support & Confidence\")\n",
    "plt.xlabel(\"Confidence\")\n",
    "plt.ylabel(\"Support\")\n",
    "plt.show()"
   ]
  },
  {
   "cell_type": "code",
   "execution_count": 15,
   "metadata": {},
   "outputs": [
    {
     "name": "stdout",
     "output_type": "stream",
     "text": [
      "Top 5 configurations generating the most rules:\n",
      "     Support  Confidence  Num_Rules\n",
      "0      0.01         0.2        162\n",
      "4      0.02         0.2         55\n",
      "8      0.03         0.2         27\n",
      "1      0.01         0.4         18\n",
      "12     0.05         0.2          6\n"
     ]
    }
   ],
   "source": [
    "# Display top rules with high confidence\n",
    "top_rules = results_df.sort_values(by=\"Num_Rules\", ascending=False).head(5)\n",
    "print(\"Top 5 configurations generating the most rules:\\n\", top_rules)"
   ]
  },
  {
   "cell_type": "markdown",
   "metadata": {},
   "source": [
    "# What is Lift and Why is it Important in Association Rules?\n",
    "\n",
    "Lift measures how much more likely two items are bought together compared to if they were bought separately. It helps us understand if there is a real relationship between items. A lift value greater than 1 means the items are more likely to be bought together than by chance. If lift is close to 1, the items are bought together randomly. A high lift value shows strong associations, making it useful for recommending products in market basket analysis.\n",
    "\n"
   ]
  },
  {
   "cell_type": "markdown",
   "metadata": {},
   "source": [
    "# What is Support and Confidence? How Do You Calculate Them?\n",
    "\n",
    "Support tells us how often an item or item pair appears in all transactions. It is calculated as:\n",
    "\n",
    "Support = Transactions containing item(s) / Total transactions\n",
    "​\n",
    " \n",
    "Higher support means the item combination is common.\n",
    "\n",
    "\n",
    "Confidence measures how often a rule (like \"if A, then B\") is correct. It is calculated as:\n",
    "\n",
    "Confidence = Transactions containing both A and B / Transactions containing A\n",
    "​ \n",
    "Higher confidence means the rule is more reliable for making predictions."
   ]
  },
  {
   "cell_type": "markdown",
   "metadata": {},
   "source": [
    "# What Are Some Limitations or Challenges of Association Rule Mining?\\\n",
    "\n",
    "One challenge of association rule mining is that it can generate too many rules, making it hard to find useful ones. Another issue is that rules with high confidence may still not be meaningful if they happen just by chance. Also, setting the right support and confidence thresholds is difficult because too high a value may miss important patterns, while too low a value may include weak rules. Lastly, it works best with structured transaction data but struggles with unstructured or complex datasets."
   ]
  }
 ],
 "metadata": {
  "kernelspec": {
   "display_name": "Python 3",
   "language": "python",
   "name": "python3"
  },
  "language_info": {
   "codemirror_mode": {
    "name": "ipython",
    "version": 3
   },
   "file_extension": ".py",
   "mimetype": "text/x-python",
   "name": "python",
   "nbconvert_exporter": "python",
   "pygments_lexer": "ipython3",
   "version": "3.7.3"
  }
 },
 "nbformat": 4,
 "nbformat_minor": 2
}
