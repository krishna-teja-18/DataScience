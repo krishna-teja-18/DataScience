{
 "cells": [
  {
   "cell_type": "markdown",
   "metadata": {},
   "source": [
    "# 1. State the Hypotheses:\n",
    "Null Hypothesis (H₀): There is no significant association between the type of smart home device purchased (Smart Thermostats vs. Smart Lights) and customer satisfaction levels. The two variables are independent.\n",
    "\n",
    "Alternative Hypothesis (H₁): There is a significant association between the type of smart home device purchased and customer satisfaction levels. The two variables are dependent."
   ]
  },
  {
   "cell_type": "code",
   "execution_count": 1,
   "metadata": {},
   "outputs": [
    {
     "name": "stdout",
     "output_type": "stream",
     "text": [
      "Observed Frequencies:\n",
      "[[ 50  70]\n",
      " [ 80 100]\n",
      " [ 60  90]\n",
      " [ 30  50]\n",
      " [ 20  50]]\n",
      "\n",
      "Expected Frequencies:\n",
      "[[ 48.  72.]\n",
      " [ 72. 108.]\n",
      " [ 60.  90.]\n",
      " [ 32.  48.]\n",
      " [ 28.  42.]]\n",
      "\n",
      "Chi-Square Statistic: 5.638227513227513\n",
      "P-value: 0.22784371130697179\n",
      "Degrees of Freedom: 4\n",
      "Critical Value: 9.487729036781154\n",
      "\n",
      "Decision: Fail to reject the null hypothesis: No significant association.\n"
     ]
    }
   ],
   "source": [
    "import numpy as np\n",
    "from scipy.stats import chi2_contingency, chi2\n",
    "\n",
    "# Step 1: Define the observed data (contingency table)\n",
    "observed = np.array([\n",
    "    [50, 70],   # Very Satisfied\n",
    "    [80, 100],  # Satisfied\n",
    "    [60, 90],   # Neutral\n",
    "    [30, 50],   # Unsatisfied\n",
    "    [20, 50]    # Very Unsatisfied\n",
    "])\n",
    "\n",
    "# Step 2: Perform the Chi-Square test\n",
    "chi2_stat, p_value, dof, expected = chi2_contingency(observed)\n",
    "\n",
    "# Step 3: Calculate the critical value\n",
    "alpha = 0.05  # Significance level\n",
    "critical_value = chi2.ppf(1 - alpha, dof)  # Critical value from Chi-Square distribution\n",
    "\n",
    "# Step 4: Make a decision\n",
    "if chi2_stat > critical_value:\n",
    "    decision = \"Reject the null hypothesis: There is a significant association.\"\n",
    "else:\n",
    "    decision = \"Fail to reject the null hypothesis: No significant association.\"\n",
    "\n",
    "# Step 5: Print all results\n",
    "print(\"Observed Frequencies:\")\n",
    "print(observed)\n",
    "print(\"\\nExpected Frequencies:\")\n",
    "print(expected)\n",
    "print(f\"\\nChi-Square Statistic: {chi2_stat}\")\n",
    "print(f\"P-value: {p_value}\")\n",
    "print(f\"Degrees of Freedom: {dof}\")\n",
    "print(f\"Critical Value: {critical_value}\")\n",
    "print(f\"\\nDecision: {decision}\")"
   ]
  },
  {
   "cell_type": "markdown",
   "metadata": {},
   "source": [
    "# Conclusion:\n",
    "\n",
    "The Chi-Square statistic (5.639) is less than the critical value (9.488), and the p-value (0.228) is greater than the significance level (α=0.05). Therefore, we fail to reject the null hypothesis, meaning there is no significant association between the type of smart home device and customer satisfaction levels."
   ]
  },
  {
   "cell_type": "code",
   "execution_count": null,
   "metadata": {},
   "outputs": [],
   "source": []
  }
 ],
 "metadata": {
  "kernelspec": {
   "display_name": "Python 3",
   "language": "python",
   "name": "python3"
  },
  "language_info": {
   "codemirror_mode": {
    "name": "ipython",
    "version": 3
   },
   "file_extension": ".py",
   "mimetype": "text/x-python",
   "name": "python",
   "nbconvert_exporter": "python",
   "pygments_lexer": "ipython3",
   "version": "3.7.3"
  }
 },
 "nbformat": 4,
 "nbformat_minor": 5
}
